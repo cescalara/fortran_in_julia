{
 "cells": [
  {
   "cell_type": "markdown",
   "metadata": {},
   "source": [
    "# Calling simple fortran code\n",
    "\n",
    "Compile simple_fortran.f with `gfortran -shared -fPIC -o simple_fortran.so simple_fortran.f`. This program implements a simple subroutine to swap the values of integers."
   ]
  },
  {
   "cell_type": "code",
   "execution_count": 1,
   "metadata": {
    "ExecuteTime": {
     "end_time": "2021-03-29T19:58:25.539000+02:00",
     "start_time": "2021-03-29T17:58:21.468Z"
    }
   },
   "outputs": [],
   "source": [
    "using Libdl"
   ]
  },
  {
   "cell_type": "code",
   "execution_count": 2,
   "metadata": {
    "ExecuteTime": {
     "end_time": "2021-03-29T19:58:27.155000+02:00",
     "start_time": "2021-03-29T17:58:26.691Z"
    }
   },
   "outputs": [
    {
     "data": {
      "text/plain": [
       "Ptr{Nothing} @0x00007f8a4ad39b00"
      ]
     },
     "execution_count": 2,
     "metadata": {},
     "output_type": "execute_result"
    }
   ],
   "source": [
    "lib = Libdl.dlopen(\"./simple_fortran.so\")"
   ]
  },
  {
   "cell_type": "markdown",
   "metadata": {},
   "source": [
    "### Using ccall function"
   ]
  },
  {
   "cell_type": "code",
   "execution_count": 3,
   "metadata": {
    "ExecuteTime": {
     "end_time": "2021-03-29T19:58:32.263000+02:00",
     "start_time": "2021-03-29T17:58:31.998Z"
    }
   },
   "outputs": [
    {
     "data": {
      "text/plain": [
       "1999"
      ]
     },
     "execution_count": 3,
     "metadata": {},
     "output_type": "execute_result"
    }
   ],
   "source": [
    "# passing variables and changing their value\n",
    "a = Ref{Int32}(1999)\n",
    "b = Ref{Int32}(2)\n",
    "ccall(Libdl.dlsym(lib, :iswap_), Cvoid, (Ref{Int32}, Ref{Int32}), a, b)\n",
    "b[] # a and b are swapped"
   ]
  },
  {
   "cell_type": "markdown",
   "metadata": {},
   "source": [
    "### Using ccall macro"
   ]
  },
  {
   "cell_type": "code",
   "execution_count": 4,
   "metadata": {
    "ExecuteTime": {
     "end_time": "2021-03-29T19:58:33.997000+02:00",
     "start_time": "2021-03-29T17:58:33.948Z"
    }
   },
   "outputs": [
    {
     "data": {
      "text/plain": [
       "1999"
      ]
     },
     "execution_count": 4,
     "metadata": {},
     "output_type": "execute_result"
    }
   ],
   "source": [
    "# passing variables and changing their value\n",
    "a = Ref{Int32}(1999)\n",
    "b = Ref{Int32}(2)\n",
    "@ccall iswap_(a::Ref{Int32}, b::Ref{Int32})::Nothing\n",
    "b[] # a and b are swapped"
   ]
  },
  {
   "cell_type": "code",
   "execution_count": null,
   "metadata": {},
   "outputs": [],
   "source": []
  }
 ],
 "metadata": {
  "kernelspec": {
   "display_name": "Julia 1.6.0",
   "language": "julia",
   "name": "julia-1.6"
  },
  "language_info": {
   "file_extension": ".jl",
   "mimetype": "application/julia",
   "name": "julia",
   "version": "1.6.0"
  }
 },
 "nbformat": 4,
 "nbformat_minor": 4
}
