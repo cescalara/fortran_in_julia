{
 "cells": [
  {
   "cell_type": "markdown",
   "metadata": {},
   "source": [
    "# Calling simple fortran code\n",
    "\n",
    "Compile simple_fortran.f with `gfortran -shared -fPIC -o simple_fortran.so simple_fortran.f`. This program implements a simple subroutine to swap the values of integers."
   ]
  },
  {
   "cell_type": "code",
   "execution_count": 2,
   "metadata": {
    "ExecuteTime": {
     "end_time": "2021-01-20T12:12:16.398000+01:00",
     "start_time": "2021-01-20T11:12:16.305Z"
    }
   },
   "outputs": [],
   "source": [
    "using Libdl"
   ]
  },
  {
   "cell_type": "code",
   "execution_count": 3,
   "metadata": {
    "ExecuteTime": {
     "end_time": "2021-01-20T12:12:16.890000+01:00",
     "start_time": "2021-01-20T11:12:16.520Z"
    }
   },
   "outputs": [
    {
     "data": {
      "text/plain": [
       "Ptr{Nothing} @0x00007fd13952ee90"
      ]
     },
     "execution_count": 3,
     "metadata": {},
     "output_type": "execute_result"
    }
   ],
   "source": [
    "lib = Libdl.dlopen(\"./simple_fortran.so\")"
   ]
  },
  {
   "cell_type": "markdown",
   "metadata": {},
   "source": [
    "### Using ccall function"
   ]
  },
  {
   "cell_type": "code",
   "execution_count": 4,
   "metadata": {
    "ExecuteTime": {
     "end_time": "2021-01-20T12:12:17.075000+01:00",
     "start_time": "2021-01-20T11:12:16.902Z"
    }
   },
   "outputs": [
    {
     "data": {
      "text/plain": [
       "1999"
      ]
     },
     "execution_count": 4,
     "metadata": {},
     "output_type": "execute_result"
    }
   ],
   "source": [
    "# passing variables and changing their value\n",
    "a = Ref{Int32}(1999)\n",
    "b = Ref{Int32}(2)\n",
    "ccall(Libdl.dlsym(lib, :iswap_), Cvoid, (Ref{Int32}, Ref{Int32}), a, b)\n",
    "b[] # a and b are swapped"
   ]
  },
  {
   "cell_type": "markdown",
   "metadata": {},
   "source": [
    "### Using ccall macro"
   ]
  },
  {
   "cell_type": "code",
   "execution_count": 5,
   "metadata": {
    "ExecuteTime": {
     "end_time": "2021-01-20T12:12:17.315000+01:00",
     "start_time": "2021-01-20T11:12:17.304Z"
    }
   },
   "outputs": [
    {
     "data": {
      "text/plain": [
       "1999"
      ]
     },
     "execution_count": 5,
     "metadata": {},
     "output_type": "execute_result"
    }
   ],
   "source": [
    "# passing variables and changing their value\n",
    "a = Ref{Int32}(1999)\n",
    "b = Ref{Int32}(2)\n",
    "@ccall iswap_(a::Ref{Int32}, b::Ref{Int32})::Nothing\n",
    "b[] # a and b are swapped"
   ]
  },
  {
   "cell_type": "code",
   "execution_count": null,
   "metadata": {},
   "outputs": [],
   "source": []
  }
 ],
 "metadata": {
  "kernelspec": {
   "display_name": "Julia 1.5.1",
   "language": "julia",
   "name": "julia-1.5"
  },
  "language_info": {
   "file_extension": ".jl",
   "mimetype": "application/julia",
   "name": "julia",
   "version": "1.5.1"
  }
 },
 "nbformat": 4,
 "nbformat_minor": 4
}
